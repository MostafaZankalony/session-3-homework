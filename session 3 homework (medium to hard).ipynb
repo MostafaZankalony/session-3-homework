{
 "cells": [
  {
   "cell_type": "code",
   "execution_count": 3,
   "id": "5310e8ee",
   "metadata": {},
   "outputs": [
    {
     "name": "stdout",
     "output_type": "stream",
     "text": [
      "enter number of integers : 3\n",
      "enter an integer : 7\n",
      "enter an integer : 5\n",
      "enter an integer : 2\n",
      "sum = 40\n"
     ]
    }
   ],
   "source": [
    "n=int(input(\"enter number of integers : \"))\n",
    "sum=0\n",
    "for i in range (1,n+1):\n",
    "    x=int(input(\"enter an integer : \"))\n",
    "    sum+=x**i\n",
    "print(\"sum = {}\".format(sum))"
   ]
  },
  {
   "cell_type": "code",
   "execution_count": 2,
   "id": "8f376655",
   "metadata": {},
   "outputs": [
    {
     "name": "stdout",
     "output_type": "stream",
     "text": [
      "enter number of integers : 3\n",
      "enter an integer : 7\n",
      "enter an integer : 5\n",
      "enter an integer : 2\n",
      "sum = 40\n"
     ]
    }
   ],
   "source": [
    "n=int(input(\"enter number of integers : \"))\n",
    "sum=0\n",
    "i=1\n",
    "while i<n+1 :\n",
    "    x=int(input(\"enter an integer : \"))\n",
    "    sum+=x**i\n",
    "    i+=1\n",
    "print(\"sum = {}\".format(sum))"
   ]
  },
  {
   "cell_type": "code",
   "execution_count": null,
   "id": "b888ccc9",
   "metadata": {},
   "outputs": [],
   "source": []
  },
  {
   "cell_type": "code",
   "execution_count": null,
   "id": "ae7c7a68",
   "metadata": {},
   "outputs": [],
   "source": []
  }
 ],
 "metadata": {
  "kernelspec": {
   "display_name": "Python 3 (ipykernel)",
   "language": "python",
   "name": "python3"
  },
  "language_info": {
   "codemirror_mode": {
    "name": "ipython",
    "version": 3
   },
   "file_extension": ".py",
   "mimetype": "text/x-python",
   "name": "python",
   "nbconvert_exporter": "python",
   "pygments_lexer": "ipython3",
   "version": "3.9.12"
  }
 },
 "nbformat": 4,
 "nbformat_minor": 5
}
