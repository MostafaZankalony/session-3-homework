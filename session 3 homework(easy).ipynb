{
 "cells": [
  {
   "cell_type": "code",
   "execution_count": 1,
   "id": "6ea81b7d",
   "metadata": {},
   "outputs": [
    {
     "name": "stdout",
     "output_type": "stream",
     "text": [
      "enter the start3\n",
      "enter the end7\n",
      "3\n",
      "4\n",
      "5\n",
      "6\n",
      "7\n"
     ]
    }
   ],
   "source": [
    "#1\n",
    "x,y=int(input(\"enter the start\")),int(input(\"enter the end\"))\n",
    "for i in range(x,y+1):\n",
    "    print(i)"
   ]
  },
  {
   "cell_type": "code",
   "execution_count": 7,
   "id": "0bffb82b",
   "metadata": {},
   "outputs": [
    {
     "name": "stdout",
     "output_type": "stream",
     "text": [
      "enter the number : 5\n",
      "enter the string : hi\n",
      "hihihihihi\n"
     ]
    }
   ],
   "source": [
    "#2\n",
    "n,s=int(input(\"enter the number : \")),input(\"enter the string : \")\n",
    "summ=\"\"\n",
    "i=0\n",
    "while i<n :\n",
    "    summ+=s\n",
    "    i+=1\n",
    "print(summ)"
   ]
  },
  {
   "cell_type": "code",
   "execution_count": 8,
   "id": "a81dd039",
   "metadata": {},
   "outputs": [
    {
     "name": "stdout",
     "output_type": "stream",
     "text": [
      "5\n",
      "*****\n",
      "****\n",
      "***\n",
      "**\n",
      "*\n"
     ]
    }
   ],
   "source": [
    "#3\n",
    "n=int(input())\n",
    "i=1\n",
    "while i<n+1 :\n",
    "    print(\"*\"*(n+1-i))\n",
    "    i+=1"
   ]
  },
  {
   "cell_type": "code",
   "execution_count": 11,
   "id": "94c0472f",
   "metadata": {},
   "outputs": [
    {
     "name": "stdout",
     "output_type": "stream",
     "text": [
      "6\n",
      "10\n",
      "100\n",
      "20\n",
      "200\n",
      "30\n",
      "600\n",
      "avr of even : 300.0 \n",
      "avr of odd : 20.0\n"
     ]
    }
   ],
   "source": [
    "#4\n",
    "n=int(input())\n",
    "sumeven,sumodd=0,0\n",
    "for i in range (1,n+1):\n",
    "    x=int(input(\"\"))\n",
    "    if i%2==0 :\n",
    "        sumeven+=x\n",
    "        avrofeven = sumeven / (i/2)\n",
    "    else:\n",
    "        sumodd+=x\n",
    "        avrofodd = sumodd / ((i+1)/2)\n",
    "print(\"avr of even : {} \\navr of odd : {}\".format(avrofeven,avrofodd))"
   ]
  },
  {
   "cell_type": "code",
   "execution_count": null,
   "id": "bc4f1fe0",
   "metadata": {},
   "outputs": [],
   "source": []
  }
 ],
 "metadata": {
  "kernelspec": {
   "display_name": "Python 3 (ipykernel)",
   "language": "python",
   "name": "python3"
  },
  "language_info": {
   "codemirror_mode": {
    "name": "ipython",
    "version": 3
   },
   "file_extension": ".py",
   "mimetype": "text/x-python",
   "name": "python",
   "nbconvert_exporter": "python",
   "pygments_lexer": "ipython3",
   "version": "3.9.12"
  }
 },
 "nbformat": 4,
 "nbformat_minor": 5
}
